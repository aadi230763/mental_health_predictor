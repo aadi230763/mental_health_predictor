{
 "cells": [
  {
   "cell_type": "markdown",
   "metadata": {},
   "source": [
    "What Does Leave (ordinal catagorical) show ?"
   ]
  },
  {
   "cell_type": "code",
   "execution_count": 3,
   "metadata": {},
   "outputs": [
    {
     "name": "stdout",
     "output_type": "stream",
     "text": [
      "   Leave Level (Encoded)  % Seeking Treatment\n",
      "0                      0             0.450980\n",
      "1                      1             0.648000\n",
      "2                      2             0.492424\n",
      "3                      3             0.680412\n",
      "4                      4             0.497537\n"
     ]
    }
   ],
   "source": [
    "import pandas as pd\n",
    "\n",
    "# Load your data\n",
    "df = pd.read_csv(\"/Users/adityachawla/Desktop/mental_health_predictor/HealthSurvey.csv\")\n",
    "df = df[(df[\"Age\"] >= 18) & (df[\"Age\"] <= 65)]\n",
    "df.fillna({\"self_employed\": \"No\", \"work_interfere\": \"Don't know\"}, inplace=True)\n",
    "\n",
    "# Keep only relevant columns\n",
    "leave_df = df[[\"leave\", \"treatment\"]].dropna()\n",
    "\n",
    "# Label encode 'leave' and 'treatment'\n",
    "from sklearn.preprocessing import LabelEncoder\n",
    "le_leave = LabelEncoder()\n",
    "le_treat = LabelEncoder()\n",
    "\n",
    "leave_df[\"leave_enc\"] = le_leave.fit_transform(leave_df[\"leave\"].astype(str))\n",
    "leave_df[\"treat_enc\"] = le_treat.fit_transform(leave_df[\"treatment\"])\n",
    "\n",
    "# Group and calculate treatment % by leave level\n",
    "result = leave_df.groupby(\"leave_enc\")[\"treat_enc\"].mean().reset_index()\n",
    "result.columns = [\"Leave Level (Encoded)\", \"% Seeking Treatment\"]\n",
    "print(result)\n",
    "\n",
    "\n",
    "\n",
    "\n",
    "# People who answered “somewhat easy” (1) or “somewhat difficult” (3) were the most likely to seek treatment.\n",
    "\n",
    "# Highest treatment % is at encoded value = 3, not at the extreme end (4 = “very difficult”).\n",
    "\n",
    "# “Very difficult” (4) surprisingly shows a drop in treatment (only ~50%).\n",
    "\n",
    "\n",
    "\n",
    "# Why might that happen?\n",
    "# Because real-world behavior is complex:\n",
    "\n",
    "# People with somewhat difficult leave may still try to get help.\n",
    "\n",
    "# But those with very difficult leave may avoid treatment out of fear, pressure, or lack of support.\n",
    "\n",
    "# So difficulty might increase distress, but not always lead to action.\n",
    "\n",
    "\n",
    "\n"
   ]
  },
  {
   "cell_type": "markdown",
   "metadata": {},
   "source": [
    "Q: Is the dataset imbalanced in terms of the target class?"
   ]
  },
  {
   "cell_type": "code",
   "execution_count": 4,
   "metadata": {},
   "outputs": [
    {
     "data": {
      "text/plain": [
       "treatment\n",
       "Yes    0.5048\n",
       "No     0.4952\n",
       "Name: proportion, dtype: float64"
      ]
     },
     "execution_count": 4,
     "metadata": {},
     "output_type": "execute_result"
    }
   ],
   "source": [
    "df[\"treatment\"].value_counts(normalize=True)\n"
   ]
  },
  {
   "cell_type": "code",
   "execution_count": 17,
   "metadata": {},
   "outputs": [],
   "source": [
    "with open(\"treatment_analysis_report.txt\", \"w\") as f:\n",
    "    for col in features:\n",
    "        f.write(\"═\" * 70 + \"\\n\")\n",
    "        f.write(f\"📊 Feature: {col.upper()}\\n\\n\")\n",
    "\n",
    "        mapping = {i: label for i, label in enumerate(encoders[col].classes_)}\n",
    "        grouped = df.groupby(f\"{col}_enc\")[\"treatment_enc\"].mean().reset_index()\n",
    "        grouped.columns = [\"Encoded Value\", \"% Seeking Treatment\"]\n",
    "        grouped[\"Original Category\"] = grouped[\"Encoded Value\"].map(mapping)\n",
    "        grouped = grouped[[\"Original Category\", \"Encoded Value\", \"% Seeking Treatment\"]]\n",
    "        grouped[\"% Seeking Treatment\"] = (grouped[\"% Seeking Treatment\"] * 100).round(2).astype(str) + \"%\"\n",
    "\n",
    "        f.write(grouped.to_string(index=False) + \"\\n\")\n",
    "\n",
    "        f.write(\"\\n🔢 Label Encoding Mapping:\\n\")\n",
    "        for i, label in enumerate(encoders[col].classes_):\n",
    "            f.write(f\"  {label} → {i}\\n\")\n",
    "    f.write(\"═\" * 70)\n"
   ]
  },
  {
   "cell_type": "code",
   "execution_count": 20,
   "metadata": {},
   "outputs": [
    {
     "name": "stdout",
     "output_type": "stream",
     "text": [
      "            People_in_Group  People_Sought_Treatment  % Seeking Treatment\n",
      "benefits                                                                 \n",
      "Don't know              407                      151            37.100737\n",
      "No                      371                      179            48.247978\n",
      "Yes                     472                      301            63.771186\n"
     ]
    }
   ],
   "source": [
    "# Count and treatment rate per category\n",
    "grouped = df.groupby(\"benefits\").agg(\n",
    "    People_in_Group=(\"treatment\", \"count\"),\n",
    "    People_Sought_Treatment=(\"treatment\", lambda x: (x == \"Yes\").sum())\n",
    ")\n",
    "\n",
    "grouped[\"% Seeking Treatment\"] = (grouped[\"People_Sought_Treatment\"] / grouped[\"People_in_Group\"]) * 100\n",
    "print(grouped)\n"
   ]
  }
 ],
 "metadata": {
  "kernelspec": {
   "display_name": "Python 3",
   "language": "python",
   "name": "python3"
  },
  "language_info": {
   "codemirror_mode": {
    "name": "ipython",
    "version": 3
   },
   "file_extension": ".py",
   "mimetype": "text/x-python",
   "name": "python",
   "nbconvert_exporter": "python",
   "pygments_lexer": "ipython3",
   "version": "3.9.6"
  }
 },
 "nbformat": 4,
 "nbformat_minor": 2
}
